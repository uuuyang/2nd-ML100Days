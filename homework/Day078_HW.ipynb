{
 "cells": [
  {
   "cell_type": "markdown",
   "metadata": {},
   "source": [
    "## Work\n",
    "1. 請嘗試將 preproc_x 替換成以每筆資料的 min/max 進行標準化至 -1 ~ 1 間，再進行訓練\n",
    "2. 請嘗試將 mlp 疊更深 (e.g 5~10 層)，進行訓練後觀察 learning curve 的走勢\n",
    "3. (optional) 請改用 GPU 進行訓練 (如果你有 GPU 的話)，比較使用 CPU 與 GPU 的訓練速度"
   ]
  },
  {
   "cell_type": "code",
   "execution_count": 1,
   "metadata": {},
   "outputs": [],
   "source": [
    "## \n",
    "\"\"\"\n",
    "Your code here (optional)\n",
    "確認硬體資源\n",
    "\"\"\"\n"
   ]
  },
  {
   "cell_type": "code",
   "execution_count": 2,
   "metadata": {},
   "outputs": [
    {
     "name": "stderr",
     "output_type": "stream",
     "text": [
      "C:\\Users\\uyang\\Anaconda3\\envs\\py35\\lib\\site-packages\\h5py\\__init__.py:36: FutureWarning: Conversion of the second argument of issubdtype from `float` to `np.floating` is deprecated. In future, it will be treated as `np.float64 == np.dtype(float).type`.\n",
      "  from ._conv import register_converters as _register_converters\n",
      "Using TensorFlow backend.\n"
     ]
    }
   ],
   "source": [
    "import os\n",
    "import keras\n",
    "\n",
    "# 請嘗試設定 GPU：os.environ\n",
    "os.environ[\"CUDA_VISIBLE_DEVICES\"] = \"\""
   ]
  },
  {
   "cell_type": "code",
   "execution_count": 3,
   "metadata": {},
   "outputs": [],
   "source": [
    "train, test = keras.datasets.cifar10.load_data()"
   ]
  },
  {
   "cell_type": "code",
   "execution_count": 4,
   "metadata": {},
   "outputs": [],
   "source": [
    "## 資料前處理\n",
    "\"\"\"\n",
    "Your code here\n",
    "\"\"\"\n",
    "def preproc_x(x , flatten=True):\n",
    "    x = 2*((x - x.min()) / (x.max() - x.min())) - 1\n",
    "    if flatten:\n",
    "        x = x.reshape((len(x), -1))\n",
    "    return x\n",
    "\n",
    "def preproc_y(y, num_classes=10):\n",
    "    if y.shape[-1] == 1:\n",
    "        y = keras.utils.to_categorical(y, num_classes)\n",
    "    return y    "
   ]
  },
  {
   "cell_type": "code",
   "execution_count": 5,
   "metadata": {},
   "outputs": [],
   "source": [
    "x_train, y_train = train\n",
    "x_test, y_test = test\n",
    "\n",
    "# Preproc the inputs\n",
    "x_train = preproc_x(x_train)\n",
    "x_test = preproc_x(x_test)\n",
    "\n",
    "# Preprc the outputs\n",
    "y_train = preproc_y(y_train)\n",
    "y_test = preproc_y(y_test)"
   ]
  },
  {
   "cell_type": "code",
   "execution_count": 6,
   "metadata": {},
   "outputs": [
    {
     "name": "stdout",
     "output_type": "stream",
     "text": [
      "_________________________________________________________________\n",
      "Layer (type)                 Output Shape              Param #   \n",
      "=================================================================\n",
      "input_1 (InputLayer)         (None, 3072)              0         \n",
      "_________________________________________________________________\n",
      "hidden_layer1 (Dense)        (None, 1024)              3146752   \n",
      "_________________________________________________________________\n",
      "hidden_layer2 (Dense)        (None, 512)               524800    \n",
      "_________________________________________________________________\n",
      "hidden_layer3 (Dense)        (None, 256)               131328    \n",
      "_________________________________________________________________\n",
      "hidden_layer4 (Dense)        (None, 128)               32896     \n",
      "_________________________________________________________________\n",
      "hidden_layer5 (Dense)        (None, 64)                8256      \n",
      "_________________________________________________________________\n",
      "hidden_layer6 (Dense)        (None, 32)                2080      \n",
      "_________________________________________________________________\n",
      "output (Dense)               (None, 10)                330       \n",
      "=================================================================\n",
      "Total params: 3,846,442\n",
      "Trainable params: 3,846,442\n",
      "Non-trainable params: 0\n",
      "_________________________________________________________________\n"
     ]
    }
   ],
   "source": [
    "\"\"\"Code Here\n",
    "建立你的神經網路\n",
    "\"\"\"\n",
    "def build_mlp(input_shape, output_units=10, num_neurons=[1024, 512, 256, 128, 64, 32]):\n",
    "    input_layer = keras.layers.Input(input_shape)\n",
    "    \n",
    "    for i, n_units in enumerate(num_neurons):\n",
    "        if i == 0:\n",
    "            x = keras.layers.Dense(units=n_units, activation=\"relu\", name=\"hidden_layer\"+str(i+1))(input_layer)\n",
    "        else:\n",
    "            x = keras.layers.Dense(units=n_units, activation=\"relu\", name=\"hidden_layer\"+str(i+1))(x)\n",
    "    \n",
    "    out = keras.layers.Dense(units=output_units, activation=\"softmax\", name=\"output\")(x)\n",
    "    \n",
    "    model = keras.models.Model(inputs=[input_layer], outputs=[out])\n",
    "    return model\n",
    "\n",
    "\n",
    "model = build_mlp(input_shape=x_train.shape[1:])\n",
    "model.summary()"
   ]
  },
  {
   "cell_type": "code",
   "execution_count": 7,
   "metadata": {},
   "outputs": [],
   "source": [
    "## 超參數設定\n",
    "LEARNING_RATE = 0.001\n",
    "EPOCHS = 100\n",
    "BATCH_SIZE = 256"
   ]
  },
  {
   "cell_type": "code",
   "execution_count": 8,
   "metadata": {},
   "outputs": [],
   "source": [
    "optimizer = keras.optimizers.Adam(lr=LEARNING_RATE)\n",
    "model.compile(loss=\"categorical_crossentropy\", metrics=[\"accuracy\"], optimizer=optimizer)"
   ]
  },
  {
   "cell_type": "code",
   "execution_count": 9,
   "metadata": {},
   "outputs": [
    {
     "name": "stdout",
     "output_type": "stream",
     "text": [
      "Train on 50000 samples, validate on 10000 samples\n",
      "Epoch 1/100\n",
      "50000/50000 [==============================] - 15s 297us/step - loss: 1.7342 - acc: 0.3819 - val_loss: 1.5453 - val_acc: 0.4557\n",
      "Epoch 2/100\n",
      "50000/50000 [==============================] - 14s 281us/step - loss: 1.4849 - acc: 0.4757 - val_loss: 1.4651 - val_acc: 0.4809\n",
      "Epoch 3/100\n",
      "50000/50000 [==============================] - 14s 285us/step - loss: 1.3613 - acc: 0.5210 - val_loss: 1.4041 - val_acc: 0.5124\n",
      "Epoch 4/100\n",
      "50000/50000 [==============================] - 14s 270us/step - loss: 1.2557 - acc: 0.5576 - val_loss: 1.3734 - val_acc: 0.5204\n",
      "Epoch 5/100\n",
      "50000/50000 [==============================] - 13s 267us/step - loss: 1.1735 - acc: 0.5854 - val_loss: 1.3733 - val_acc: 0.5291\n",
      "Epoch 6/100\n",
      "50000/50000 [==============================] - 13s 266us/step - loss: 1.0891 - acc: 0.6161 - val_loss: 1.3351 - val_acc: 0.5341\n",
      "Epoch 7/100\n",
      "50000/50000 [==============================] - 13s 267us/step - loss: 1.0041 - acc: 0.6447 - val_loss: 1.3475 - val_acc: 0.5345\n",
      "Epoch 8/100\n",
      "50000/50000 [==============================] - 13s 267us/step - loss: 0.9195 - acc: 0.6742 - val_loss: 1.3932 - val_acc: 0.5346\n",
      "Epoch 9/100\n",
      "50000/50000 [==============================] - 13s 266us/step - loss: 0.8439 - acc: 0.7012 - val_loss: 1.4602 - val_acc: 0.5358\n",
      "Epoch 10/100\n",
      "50000/50000 [==============================] - 13s 266us/step - loss: 0.7698 - acc: 0.7299 - val_loss: 1.4759 - val_acc: 0.5431\n",
      "Epoch 11/100\n",
      "50000/50000 [==============================] - 13s 266us/step - loss: 0.6889 - acc: 0.7562 - val_loss: 1.5424 - val_acc: 0.5410\n",
      "Epoch 12/100\n",
      "50000/50000 [==============================] - 13s 268us/step - loss: 0.6199 - acc: 0.7802 - val_loss: 1.6123 - val_acc: 0.5377\n",
      "Epoch 13/100\n",
      "50000/50000 [==============================] - 14s 278us/step - loss: 0.5586 - acc: 0.8043 - val_loss: 1.7977 - val_acc: 0.5432\n",
      "Epoch 14/100\n",
      "50000/50000 [==============================] - 13s 270us/step - loss: 0.5003 - acc: 0.8241 - val_loss: 1.7781 - val_acc: 0.5439\n",
      "Epoch 15/100\n",
      "50000/50000 [==============================] - 13s 269us/step - loss: 0.4477 - acc: 0.8421 - val_loss: 1.8982 - val_acc: 0.5337\n",
      "Epoch 16/100\n",
      "50000/50000 [==============================] - 13s 268us/step - loss: 0.4109 - acc: 0.8560 - val_loss: 2.0578 - val_acc: 0.5410\n",
      "Epoch 17/100\n",
      "50000/50000 [==============================] - 13s 268us/step - loss: 0.3707 - acc: 0.8676 - val_loss: 2.1051 - val_acc: 0.5400\n",
      "Epoch 18/100\n",
      "50000/50000 [==============================] - 13s 269us/step - loss: 0.3387 - acc: 0.8804 - val_loss: 2.2088 - val_acc: 0.5274\n",
      "Epoch 19/100\n",
      "50000/50000 [==============================] - 13s 269us/step - loss: 0.3050 - acc: 0.8940 - val_loss: 2.4222 - val_acc: 0.5474\n",
      "Epoch 20/100\n",
      "50000/50000 [==============================] - 13s 269us/step - loss: 0.2756 - acc: 0.9032 - val_loss: 2.4226 - val_acc: 0.5321\n",
      "Epoch 21/100\n",
      "50000/50000 [==============================] - 14s 275us/step - loss: 0.2764 - acc: 0.9031 - val_loss: 2.4413 - val_acc: 0.5442\n",
      "Epoch 22/100\n",
      "50000/50000 [==============================] - 14s 271us/step - loss: 0.2222 - acc: 0.9225 - val_loss: 2.5920 - val_acc: 0.5444\n",
      "Epoch 23/100\n",
      "50000/50000 [==============================] - 14s 279us/step - loss: 0.2271 - acc: 0.9220 - val_loss: 2.6621 - val_acc: 0.5362\n",
      "Epoch 24/100\n",
      "50000/50000 [==============================] - 14s 274us/step - loss: 0.2217 - acc: 0.9230 - val_loss: 2.6855 - val_acc: 0.5378\n",
      "Epoch 25/100\n",
      "50000/50000 [==============================] - 15s 298us/step - loss: 0.2054 - acc: 0.9297 - val_loss: 2.8457 - val_acc: 0.5342\n",
      "Epoch 26/100\n",
      "50000/50000 [==============================] - 14s 282us/step - loss: 0.1945 - acc: 0.9332 - val_loss: 2.7601 - val_acc: 0.5378\n",
      "Epoch 27/100\n",
      "50000/50000 [==============================] - 14s 282us/step - loss: 0.1850 - acc: 0.9360 - val_loss: 2.8505 - val_acc: 0.5386\n",
      "Epoch 28/100\n",
      "50000/50000 [==============================] - 14s 283us/step - loss: 0.1769 - acc: 0.9398 - val_loss: 2.8970 - val_acc: 0.5376\n",
      "Epoch 29/100\n",
      "50000/50000 [==============================] - 14s 282us/step - loss: 0.1555 - acc: 0.9477 - val_loss: 2.9136 - val_acc: 0.5414\n",
      "Epoch 30/100\n",
      "50000/50000 [==============================] - 14s 284us/step - loss: 0.1508 - acc: 0.9492 - val_loss: 3.0163 - val_acc: 0.5366\n",
      "Epoch 31/100\n",
      "50000/50000 [==============================] - 14s 283us/step - loss: 0.1634 - acc: 0.9453 - val_loss: 2.9006 - val_acc: 0.5418\n",
      "Epoch 32/100\n",
      "50000/50000 [==============================] - 14s 284us/step - loss: 0.1478 - acc: 0.9506 - val_loss: 3.0415 - val_acc: 0.5351\n",
      "Epoch 33/100\n",
      "50000/50000 [==============================] - 14s 284us/step - loss: 0.1319 - acc: 0.9552 - val_loss: 3.1096 - val_acc: 0.5406\n",
      "Epoch 34/100\n",
      "50000/50000 [==============================] - 14s 284us/step - loss: 0.1406 - acc: 0.9531 - val_loss: 3.0882 - val_acc: 0.5417\n",
      "Epoch 35/100\n",
      "50000/50000 [==============================] - 14s 282us/step - loss: 0.1369 - acc: 0.9548 - val_loss: 3.1060 - val_acc: 0.5415\n",
      "Epoch 36/100\n",
      "50000/50000 [==============================] - 14s 282us/step - loss: 0.1373 - acc: 0.9542 - val_loss: 3.2075 - val_acc: 0.5427\n",
      "Epoch 37/100\n",
      "50000/50000 [==============================] - 14s 285us/step - loss: 0.1262 - acc: 0.9577 - val_loss: 3.2219 - val_acc: 0.5415\n",
      "Epoch 38/100\n",
      "50000/50000 [==============================] - 14s 284us/step - loss: 0.1144 - acc: 0.9612 - val_loss: 3.2501 - val_acc: 0.5424\n",
      "Epoch 39/100\n",
      "50000/50000 [==============================] - 15s 291us/step - loss: 0.1329 - acc: 0.9563 - val_loss: 3.2603 - val_acc: 0.5382\n",
      "Epoch 40/100\n",
      "50000/50000 [==============================] - 14s 283us/step - loss: 0.1083 - acc: 0.9646 - val_loss: 3.2814 - val_acc: 0.5423\n",
      "Epoch 41/100\n",
      "50000/50000 [==============================] - 14s 283us/step - loss: 0.1158 - acc: 0.9625 - val_loss: 3.1274 - val_acc: 0.5386\n",
      "Epoch 42/100\n",
      "50000/50000 [==============================] - 14s 286us/step - loss: 0.0986 - acc: 0.9681 - val_loss: 3.3909 - val_acc: 0.5396\n",
      "Epoch 43/100\n",
      "50000/50000 [==============================] - 14s 285us/step - loss: 0.1155 - acc: 0.9619 - val_loss: 3.2377 - val_acc: 0.5407\n",
      "Epoch 44/100\n",
      "50000/50000 [==============================] - 14s 285us/step - loss: 0.1010 - acc: 0.9664 - val_loss: 3.3168 - val_acc: 0.5432\n",
      "Epoch 45/100\n",
      "50000/50000 [==============================] - 14s 285us/step - loss: 0.1078 - acc: 0.9641 - val_loss: 3.2865 - val_acc: 0.5430\n",
      "Epoch 46/100\n",
      "50000/50000 [==============================] - 14s 285us/step - loss: 0.0966 - acc: 0.9680 - val_loss: 3.2765 - val_acc: 0.5384\n",
      "Epoch 47/100\n",
      "50000/50000 [==============================] - 14s 284us/step - loss: 0.1051 - acc: 0.9658 - val_loss: 3.3011 - val_acc: 0.5456\n",
      "Epoch 48/100\n",
      "50000/50000 [==============================] - 14s 284us/step - loss: 0.0964 - acc: 0.9677 - val_loss: 3.3633 - val_acc: 0.5393\n",
      "Epoch 49/100\n",
      "50000/50000 [==============================] - 14s 283us/step - loss: 0.1026 - acc: 0.9678 - val_loss: 3.2989 - val_acc: 0.5416\n",
      "Epoch 50/100\n",
      "50000/50000 [==============================] - 14s 285us/step - loss: 0.0967 - acc: 0.9681 - val_loss: 3.3008 - val_acc: 0.5390\n",
      "Epoch 51/100\n",
      "50000/50000 [==============================] - 14s 283us/step - loss: 0.0804 - acc: 0.9734 - val_loss: 3.3000 - val_acc: 0.5470\n",
      "Epoch 52/100\n",
      "50000/50000 [==============================] - 14s 286us/step - loss: 0.0849 - acc: 0.9728 - val_loss: 3.3749 - val_acc: 0.5366\n",
      "Epoch 53/100\n",
      "50000/50000 [==============================] - 14s 283us/step - loss: 0.0910 - acc: 0.9699 - val_loss: 3.4420 - val_acc: 0.5440\n",
      "Epoch 54/100\n",
      "50000/50000 [==============================] - 14s 281us/step - loss: 0.0910 - acc: 0.9711 - val_loss: 3.3142 - val_acc: 0.5403\n",
      "Epoch 55/100\n",
      "50000/50000 [==============================] - 14s 283us/step - loss: 0.1037 - acc: 0.9659 - val_loss: 3.3998 - val_acc: 0.5388\n",
      "Epoch 56/100\n",
      "50000/50000 [==============================] - 14s 284us/step - loss: 0.0750 - acc: 0.9756 - val_loss: 3.4971 - val_acc: 0.5431\n",
      "Epoch 57/100\n",
      "50000/50000 [==============================] - 14s 282us/step - loss: 0.0754 - acc: 0.9759 - val_loss: 3.5225 - val_acc: 0.5367\n",
      "Epoch 58/100\n",
      "50000/50000 [==============================] - 14s 282us/step - loss: 0.0798 - acc: 0.9746 - val_loss: 3.4438 - val_acc: 0.5376\n"
     ]
    },
    {
     "name": "stdout",
     "output_type": "stream",
     "text": [
      "Epoch 59/100\n",
      "50000/50000 [==============================] - 14s 280us/step - loss: 0.0794 - acc: 0.9741 - val_loss: 3.4795 - val_acc: 0.5343\n",
      "Epoch 60/100\n",
      "50000/50000 [==============================] - 14s 280us/step - loss: 0.0817 - acc: 0.9745 - val_loss: 3.5185 - val_acc: 0.5385\n",
      "Epoch 61/100\n",
      "50000/50000 [==============================] - 14s 280us/step - loss: 0.0849 - acc: 0.9735 - val_loss: 3.4069 - val_acc: 0.5349\n",
      "Epoch 62/100\n",
      "50000/50000 [==============================] - 14s 281us/step - loss: 0.0720 - acc: 0.9774 - val_loss: 3.4305 - val_acc: 0.5443\n",
      "Epoch 63/100\n",
      "50000/50000 [==============================] - 14s 281us/step - loss: 0.0776 - acc: 0.9755 - val_loss: 3.4983 - val_acc: 0.5467\n",
      "Epoch 64/100\n",
      "50000/50000 [==============================] - 14s 282us/step - loss: 0.0700 - acc: 0.9777 - val_loss: 3.4653 - val_acc: 0.5417\n",
      "Epoch 65/100\n",
      "50000/50000 [==============================] - 14s 280us/step - loss: 0.0751 - acc: 0.9767 - val_loss: 3.5310 - val_acc: 0.5337\n",
      "Epoch 66/100\n",
      "50000/50000 [==============================] - 14s 280us/step - loss: 0.0681 - acc: 0.9785 - val_loss: 3.5263 - val_acc: 0.5499\n",
      "Epoch 67/100\n",
      "50000/50000 [==============================] - 14s 280us/step - loss: 0.0848 - acc: 0.9726 - val_loss: 3.4027 - val_acc: 0.5427\n",
      "Epoch 68/100\n",
      "50000/50000 [==============================] - 14s 280us/step - loss: 0.0711 - acc: 0.9782 - val_loss: 3.4930 - val_acc: 0.5463\n",
      "Epoch 69/100\n",
      "50000/50000 [==============================] - 14s 280us/step - loss: 0.0525 - acc: 0.9834 - val_loss: 3.6216 - val_acc: 0.5440\n",
      "Epoch 70/100\n",
      "50000/50000 [==============================] - 14s 281us/step - loss: 0.0543 - acc: 0.9827 - val_loss: 3.6498 - val_acc: 0.5470\n",
      "Epoch 71/100\n",
      "50000/50000 [==============================] - 14s 280us/step - loss: 0.0814 - acc: 0.9744 - val_loss: 3.5299 - val_acc: 0.5435\n",
      "Epoch 72/100\n",
      "50000/50000 [==============================] - 14s 279us/step - loss: 0.0757 - acc: 0.9763 - val_loss: 3.5818 - val_acc: 0.5377\n",
      "Epoch 73/100\n",
      "50000/50000 [==============================] - 14s 278us/step - loss: 0.0740 - acc: 0.9766 - val_loss: 3.4692 - val_acc: 0.5441\n",
      "Epoch 74/100\n",
      "50000/50000 [==============================] - 14s 281us/step - loss: 0.0542 - acc: 0.9831 - val_loss: 3.6171 - val_acc: 0.5346\n",
      "Epoch 75/100\n",
      "50000/50000 [==============================] - 14s 282us/step - loss: 0.0599 - acc: 0.9811 - val_loss: 3.5594 - val_acc: 0.5439\n",
      "Epoch 76/100\n",
      "50000/50000 [==============================] - 14s 280us/step - loss: 0.0517 - acc: 0.9840 - val_loss: 3.5103 - val_acc: 0.5406\n",
      "Epoch 77/100\n",
      "50000/50000 [==============================] - 14s 281us/step - loss: 0.0822 - acc: 0.9748 - val_loss: 3.5754 - val_acc: 0.5409\n",
      "Epoch 78/100\n",
      "50000/50000 [==============================] - 14s 281us/step - loss: 0.0614 - acc: 0.9805 - val_loss: 3.4902 - val_acc: 0.5449\n",
      "Epoch 79/100\n",
      "50000/50000 [==============================] - 14s 280us/step - loss: 0.0630 - acc: 0.9803 - val_loss: 3.5253 - val_acc: 0.5446\n",
      "Epoch 80/100\n",
      "50000/50000 [==============================] - 14s 282us/step - loss: 0.0597 - acc: 0.9817 - val_loss: 3.6090 - val_acc: 0.5460\n",
      "Epoch 81/100\n",
      "50000/50000 [==============================] - 14s 281us/step - loss: 0.0541 - acc: 0.9832 - val_loss: 3.5517 - val_acc: 0.5436\n",
      "Epoch 82/100\n",
      "50000/50000 [==============================] - 14s 279us/step - loss: 0.0623 - acc: 0.9811 - val_loss: 3.5301 - val_acc: 0.5398\n",
      "Epoch 83/100\n",
      "50000/50000 [==============================] - 14s 280us/step - loss: 0.0587 - acc: 0.9818 - val_loss: 3.6514 - val_acc: 0.5502\n",
      "Epoch 84/100\n",
      "50000/50000 [==============================] - 14s 280us/step - loss: 0.0625 - acc: 0.9802 - val_loss: 3.5218 - val_acc: 0.5443\n",
      "Epoch 85/100\n",
      "50000/50000 [==============================] - 14s 282us/step - loss: 0.0568 - acc: 0.9818 - val_loss: 3.6325 - val_acc: 0.5411\n",
      "Epoch 86/100\n",
      "50000/50000 [==============================] - 14s 280us/step - loss: 0.0555 - acc: 0.9831 - val_loss: 3.6136 - val_acc: 0.5398\n",
      "Epoch 87/100\n",
      "50000/50000 [==============================] - 14s 279us/step - loss: 0.0589 - acc: 0.9818 - val_loss: 3.6032 - val_acc: 0.5455\n",
      "Epoch 88/100\n",
      "50000/50000 [==============================] - 14s 280us/step - loss: 0.0533 - acc: 0.9840 - val_loss: 3.5183 - val_acc: 0.5475\n",
      "Epoch 89/100\n",
      "50000/50000 [==============================] - 14s 281us/step - loss: 0.0448 - acc: 0.9861 - val_loss: 3.6721 - val_acc: 0.5339\n",
      "Epoch 90/100\n",
      "50000/50000 [==============================] - 14s 279us/step - loss: 0.0669 - acc: 0.9787 - val_loss: 3.5685 - val_acc: 0.5368\n",
      "Epoch 91/100\n",
      "50000/50000 [==============================] - 14s 281us/step - loss: 0.0631 - acc: 0.9803 - val_loss: 3.5784 - val_acc: 0.5376\n",
      "Epoch 92/100\n",
      "50000/50000 [==============================] - 14s 282us/step - loss: 0.0545 - acc: 0.9830 - val_loss: 3.6744 - val_acc: 0.5388\n",
      "Epoch 93/100\n",
      "50000/50000 [==============================] - 14s 281us/step - loss: 0.0519 - acc: 0.9842 - val_loss: 3.5667 - val_acc: 0.5432\n",
      "Epoch 94/100\n",
      "50000/50000 [==============================] - 14s 281us/step - loss: 0.0434 - acc: 0.9869 - val_loss: 3.5873 - val_acc: 0.5372\n",
      "Epoch 95/100\n",
      "50000/50000 [==============================] - 14s 281us/step - loss: 0.0570 - acc: 0.9829 - val_loss: 3.5016 - val_acc: 0.5449\n",
      "Epoch 96/100\n",
      "50000/50000 [==============================] - 14s 281us/step - loss: 0.0567 - acc: 0.9825 - val_loss: 3.5998 - val_acc: 0.5410\n",
      "Epoch 97/100\n",
      "50000/50000 [==============================] - 14s 280us/step - loss: 0.0616 - acc: 0.9815 - val_loss: 3.5894 - val_acc: 0.5447\n",
      "Epoch 98/100\n",
      "50000/50000 [==============================] - 14s 280us/step - loss: 0.0389 - acc: 0.9883 - val_loss: 3.7691 - val_acc: 0.5478\n",
      "Epoch 99/100\n",
      "50000/50000 [==============================] - 14s 281us/step - loss: 0.0498 - acc: 0.9852 - val_loss: 3.6225 - val_acc: 0.5435\n",
      "Epoch 100/100\n",
      "50000/50000 [==============================] - 14s 281us/step - loss: 0.0414 - acc: 0.9865 - val_loss: 3.6491 - val_acc: 0.5455\n"
     ]
    },
    {
     "data": {
      "text/plain": [
       "<keras.callbacks.History at 0x18c43b31390>"
      ]
     },
     "execution_count": 9,
     "metadata": {},
     "output_type": "execute_result"
    }
   ],
   "source": [
    "model.fit(x_train, y_train, \n",
    "          epochs=EPOCHS, \n",
    "          batch_size=BATCH_SIZE, \n",
    "          validation_data=(x_test, y_test), \n",
    "          shuffle=True)"
   ]
  },
  {
   "cell_type": "code",
   "execution_count": 11,
   "metadata": {},
   "outputs": [
    {
     "data": {
      "image/png": "[encoded data removed]",
      "text/plain": [
       "<Figure size 432x288 with 1 Axes>"
      ]
     },
     "metadata": {},
     "output_type": "display_data"
    },
    {
     "data": {
      "image/png": "[encoded data removed]",
      "text/plain": [
       "<Figure size 432x288 with 1 Axes>"
      ]
     },
     "metadata": {},
     "output_type": "display_data"
    }
   ],
   "source": [
    "import matplotlib.pyplot as plt\n",
    "\n",
    "\n",
    "train_loss = model.history.history[\"loss\"]\n",
    "valid_loss = model.history.history[\"val_loss\"]\n",
    "\n",
    "train_acc = model.history.history[\"acc\"]\n",
    "valid_acc = model.history.history[\"val_acc\"]\n",
    "\n",
    "plt.plot(range(len(train_loss)), train_loss, label=\"train loss\")\n",
    "plt.plot(range(len(valid_loss)), valid_loss, label=\"valid loss\")\n",
    "plt.legend()\n",
    "plt.title(\"Loss\")\n",
    "plt.show()\n",
    "\n",
    "plt.plot(range(len(train_acc)), train_acc, label=\"train accuracy\")\n",
    "plt.plot(range(len(valid_acc)), valid_acc, label=\"valid accuracy\")\n",
    "plt.legend()\n",
    "plt.title(\"Accuracy\")\n",
    "plt.show()"
   ]
  },
  {
   "cell_type": "code",
   "execution_count": null,
   "metadata": {},
   "outputs": [],
   "source": []
  }
 ],
 "metadata": {
  "kernelspec": {
   "display_name": "Python 3",
   "language": "python",
   "name": "python3"
  },
  "language_info": {
   "codemirror_mode": {
    "name": "ipython",
    "version": 3
   },
   "file_extension": ".py",
   "mimetype": "text/x-python",
   "name": "python",
   "nbconvert_exporter": "python",
   "pygments_lexer": "ipython3",
   "version": "3.5.5"
  }
 },
 "nbformat": 4,
 "nbformat_minor": 2
}
